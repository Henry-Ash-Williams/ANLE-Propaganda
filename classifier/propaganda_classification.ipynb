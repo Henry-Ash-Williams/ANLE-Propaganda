{
 "cells": [
  {
   "cell_type": "code",
   "execution_count": 1,
   "metadata": {},
   "outputs": [],
   "source": [
    "import pandas as pd \n",
    "import numpy as np \n",
    "from sklearn.feature_extraction.text import TfidfVectorizer\n",
    "from sklearn.linear_model import LogisticRegression\n",
    "from sklearn.svm import SVC\n",
    "from sklearn.metrics import confusion_matrix, classification_report"
   ]
  },
  {
   "cell_type": "code",
   "execution_count": 2,
   "metadata": {},
   "outputs": [],
   "source": [
    "BEGINNING_OF_SPAN = \"<BOS>\"\n",
    "END_OF_SPAN = \"<EOS>\""
   ]
  },
  {
   "cell_type": "code",
   "execution_count": 3,
   "metadata": {},
   "outputs": [],
   "source": [
    "DATASET = '../propaganda_dataset_v2/'\n",
    "train = pd.read_csv(f'{DATASET}/propaganda_train.tsv', sep='\\t', header=0, quoting=3)\n",
    "val = pd.read_csv(f'{DATASET}/propaganda_val.tsv', sep='\\t', header=0, quoting=3)"
   ]
  },
  {
   "cell_type": "code",
   "execution_count": 4,
   "metadata": {},
   "outputs": [],
   "source": [
    "train = train[train['label'] != 'not_propaganda']\n",
    "val = val[val['label'] != 'not_propaganda']"
   ]
  },
  {
   "cell_type": "code",
   "execution_count": 5,
   "metadata": {},
   "outputs": [],
   "source": [
    "def extract_snippet(sample: str) -> str:\n",
    "    \"\"\"\n",
    "    Extract text within the <BOS> and <EOS> tags.\n",
    "\n",
    "    Args:\n",
    "        sample (str): A text sample containing both <BOS> and <EOS>\n",
    "\n",
    "    Returns:\n",
    "        str: A string with only the text within the span\n",
    "    \"\"\"\n",
    "\n",
    "    assert (\n",
    "        BEGINNING_OF_SPAN in sample\n",
    "    ), \"Text sample should contain beginning of span tag (<BOS>)\"\n",
    "    assert END_OF_SPAN in sample, \"Text sample should contain end of span tag (<EOS>)\"\n",
    "    s_idx = sample.index(BEGINNING_OF_SPAN) + len(BEGINNING_OF_SPAN)\n",
    "    e_idx = sample.index(END_OF_SPAN)\n",
    "    return sample[s_idx:e_idx]\n",
    "\n",
    "train['tagged_in_context'] = train['tagged_in_context'].apply(extract_snippet)\n",
    "val['tagged_in_context'] = val['tagged_in_context'].apply(extract_snippet)"
   ]
  },
  {
   "cell_type": "code",
   "execution_count": 9,
   "metadata": {},
   "outputs": [],
   "source": [
    "overall_metrics = {\n",
    "    'linear': {\n",
    "        'precision': [],\n",
    "        'recall': [],    \n",
    "        'f1': [],\n",
    "        'acc': []\n",
    "    },\n",
    "    'poly': {\n",
    "        'precision': [],\n",
    "        'recall': [],    \n",
    "        'f1': [],\n",
    "        'acc': []\n",
    "    },\n",
    "    'rbf': {\n",
    "        'precision': [],\n",
    "        'recall': [],    \n",
    "        'f1': [],\n",
    "        'acc': []\n",
    "    },\n",
    "    'sigmoid': {\n",
    "        'precision': [],\n",
    "        'recall': [],    \n",
    "        'f1': [],\n",
    "        'acc': []\n",
    "    },\n",
    "}"
   ]
  },
  {
   "cell_type": "code",
   "execution_count": 19,
   "metadata": {},
   "outputs": [],
   "source": [
    "tfidf = TfidfVectorizer()\n",
    "train_vecs = tfidf.fit_transform(train['tagged_in_context'])\n",
    "test_vecs = tfidf.transform(val['tagged_in_context'])\n",
    "\n",
    "for i in range(10):\n",
    "    for kernel in ['linear', 'poly', 'rbf', 'sigmoid']:\n",
    "        model = SVC(kernel=kernel)\n",
    "        model.fit(train_vecs, train['label'])\n",
    "\n",
    "        test_predictions = model.predict(test_vecs)\n",
    "        this_metrics = classification_report(val['label'], test_predictions, output_dict=True)\n",
    "    overall_metrics[kernel]['precision'].append(this_metrics['weighted avg']['precision'])\n",
    "    overall_metrics[kernel]['recall'].append(this_metrics['weighted avg']['recall'])\n",
    "    overall_metrics[kernel]['f1'].append(this_metrics['weighted avg']['f1-score'])\n",
    "    overall_metrics[kernel]['acc'].append(this_metrics['accuracy'])"
   ]
  },
  {
   "cell_type": "code",
   "execution_count": 17,
   "metadata": {},
   "outputs": [
    {
     "data": {
      "text/html": [
       "<pre style=\"white-space:pre;overflow-x:auto;line-height:normal;font-family:Menlo,'DejaVu Sans Mono',consolas,'Courier New',monospace\">=====<span style=\"color: #808000; text-decoration-color: #808000\">linear</span>===== \n",
       "</pre>\n"
      ],
      "text/plain": [
       "=====\u001b[33mlinear\u001b[0m===== \n"
      ]
     },
     "metadata": {},
     "output_type": "display_data"
    },
    {
     "name": "stderr",
     "output_type": "stream",
     "text": [
      "/Users/henrywilliams/Documents/uni/anle/assessment/.venv/lib/python3.11/site-packages/numpy/core/fromnumeric.py:3504: RuntimeWarning: Mean of empty slice.\n",
      "  return _methods._mean(a, axis=axis, dtype=dtype,\n",
      "/Users/henrywilliams/Documents/uni/anle/assessment/.venv/lib/python3.11/site-packages/numpy/core/_methods.py:129: RuntimeWarning: invalid value encountered in scalar divide\n",
      "  ret = ret.dtype.type(ret / rcount)\n"
     ]
    },
    {
     "data": {
      "text/html": [
       "<pre style=\"white-space:pre;overflow-x:auto;line-height:normal;font-family:Menlo,'DejaVu Sans Mono',consolas,'Courier New',monospace\">Precision:      nan\n",
       "</pre>\n"
      ],
      "text/plain": [
       "Precision:      nan\n"
      ]
     },
     "metadata": {},
     "output_type": "display_data"
    },
    {
     "data": {
      "text/html": [
       "<pre style=\"white-space:pre;overflow-x:auto;line-height:normal;font-family:Menlo,'DejaVu Sans Mono',consolas,'Courier New',monospace\">Recall:         nan\n",
       "</pre>\n"
      ],
      "text/plain": [
       "Recall:         nan\n"
      ]
     },
     "metadata": {},
     "output_type": "display_data"
    },
    {
     "data": {
      "text/html": [
       "<pre style=\"white-space:pre;overflow-x:auto;line-height:normal;font-family:Menlo,'DejaVu Sans Mono',consolas,'Courier New',monospace\">F1:             nan\n",
       "</pre>\n"
      ],
      "text/plain": [
       "F1:             nan\n"
      ]
     },
     "metadata": {},
     "output_type": "display_data"
    },
    {
     "data": {
      "text/html": [
       "<pre style=\"white-space:pre;overflow-x:auto;line-height:normal;font-family:Menlo,'DejaVu Sans Mono',consolas,'Courier New',monospace\">Acc:            nan\n",
       "</pre>\n"
      ],
      "text/plain": [
       "Acc:            nan\n"
      ]
     },
     "metadata": {},
     "output_type": "display_data"
    },
    {
     "data": {
      "text/html": [
       "<pre style=\"white-space:pre;overflow-x:auto;line-height:normal;font-family:Menlo,'DejaVu Sans Mono',consolas,'Courier New',monospace\">=====<span style=\"color: #808000; text-decoration-color: #808000\">poly</span>===== \n",
       "</pre>\n"
      ],
      "text/plain": [
       "=====\u001b[33mpoly\u001b[0m===== \n"
      ]
     },
     "metadata": {},
     "output_type": "display_data"
    },
    {
     "data": {
      "text/html": [
       "<pre style=\"white-space:pre;overflow-x:auto;line-height:normal;font-family:Menlo,'DejaVu Sans Mono',consolas,'Courier New',monospace\">Precision:      nan\n",
       "</pre>\n"
      ],
      "text/plain": [
       "Precision:      nan\n"
      ]
     },
     "metadata": {},
     "output_type": "display_data"
    },
    {
     "data": {
      "text/html": [
       "<pre style=\"white-space:pre;overflow-x:auto;line-height:normal;font-family:Menlo,'DejaVu Sans Mono',consolas,'Courier New',monospace\">Recall:         nan\n",
       "</pre>\n"
      ],
      "text/plain": [
       "Recall:         nan\n"
      ]
     },
     "metadata": {},
     "output_type": "display_data"
    },
    {
     "data": {
      "text/html": [
       "<pre style=\"white-space:pre;overflow-x:auto;line-height:normal;font-family:Menlo,'DejaVu Sans Mono',consolas,'Courier New',monospace\">F1:             nan\n",
       "</pre>\n"
      ],
      "text/plain": [
       "F1:             nan\n"
      ]
     },
     "metadata": {},
     "output_type": "display_data"
    },
    {
     "data": {
      "text/html": [
       "<pre style=\"white-space:pre;overflow-x:auto;line-height:normal;font-family:Menlo,'DejaVu Sans Mono',consolas,'Courier New',monospace\">Acc:            nan\n",
       "</pre>\n"
      ],
      "text/plain": [
       "Acc:            nan\n"
      ]
     },
     "metadata": {},
     "output_type": "display_data"
    },
    {
     "data": {
      "text/html": [
       "<pre style=\"white-space:pre;overflow-x:auto;line-height:normal;font-family:Menlo,'DejaVu Sans Mono',consolas,'Courier New',monospace\">=====<span style=\"color: #808000; text-decoration-color: #808000\">rbf</span>===== \n",
       "</pre>\n"
      ],
      "text/plain": [
       "=====\u001b[33mrbf\u001b[0m===== \n"
      ]
     },
     "metadata": {},
     "output_type": "display_data"
    },
    {
     "data": {
      "text/html": [
       "<pre style=\"white-space:pre;overflow-x:auto;line-height:normal;font-family:Menlo,'DejaVu Sans Mono',consolas,'Courier New',monospace\">Precision:      nan\n",
       "</pre>\n"
      ],
      "text/plain": [
       "Precision:      nan\n"
      ]
     },
     "metadata": {},
     "output_type": "display_data"
    },
    {
     "data": {
      "text/html": [
       "<pre style=\"white-space:pre;overflow-x:auto;line-height:normal;font-family:Menlo,'DejaVu Sans Mono',consolas,'Courier New',monospace\">Recall:         nan\n",
       "</pre>\n"
      ],
      "text/plain": [
       "Recall:         nan\n"
      ]
     },
     "metadata": {},
     "output_type": "display_data"
    },
    {
     "data": {
      "text/html": [
       "<pre style=\"white-space:pre;overflow-x:auto;line-height:normal;font-family:Menlo,'DejaVu Sans Mono',consolas,'Courier New',monospace\">F1:             nan\n",
       "</pre>\n"
      ],
      "text/plain": [
       "F1:             nan\n"
      ]
     },
     "metadata": {},
     "output_type": "display_data"
    },
    {
     "data": {
      "text/html": [
       "<pre style=\"white-space:pre;overflow-x:auto;line-height:normal;font-family:Menlo,'DejaVu Sans Mono',consolas,'Courier New',monospace\">Acc:            nan\n",
       "</pre>\n"
      ],
      "text/plain": [
       "Acc:            nan\n"
      ]
     },
     "metadata": {},
     "output_type": "display_data"
    },
    {
     "data": {
      "text/html": [
       "<pre style=\"white-space:pre;overflow-x:auto;line-height:normal;font-family:Menlo,'DejaVu Sans Mono',consolas,'Courier New',monospace\">=====<span style=\"color: #808000; text-decoration-color: #808000\">sigmoid</span>===== \n",
       "</pre>\n"
      ],
      "text/plain": [
       "=====\u001b[33msigmoid\u001b[0m===== \n"
      ]
     },
     "metadata": {},
     "output_type": "display_data"
    },
    {
     "data": {
      "text/html": [
       "<pre style=\"white-space:pre;overflow-x:auto;line-height:normal;font-family:Menlo,'DejaVu Sans Mono',consolas,'Courier New',monospace\">Precision:      <span style=\"color: #008080; text-decoration-color: #008080; font-weight: bold\">0.53</span>\n",
       "</pre>\n"
      ],
      "text/plain": [
       "Precision:      \u001b[1;36m0.53\u001b[0m\n"
      ]
     },
     "metadata": {},
     "output_type": "display_data"
    },
    {
     "data": {
      "text/html": [
       "<pre style=\"white-space:pre;overflow-x:auto;line-height:normal;font-family:Menlo,'DejaVu Sans Mono',consolas,'Courier New',monospace\">Recall:         <span style=\"color: #008080; text-decoration-color: #008080; font-weight: bold\">0.5</span>\n",
       "</pre>\n"
      ],
      "text/plain": [
       "Recall:         \u001b[1;36m0.5\u001b[0m\n"
      ]
     },
     "metadata": {},
     "output_type": "display_data"
    },
    {
     "data": {
      "text/html": [
       "<pre style=\"white-space:pre;overflow-x:auto;line-height:normal;font-family:Menlo,'DejaVu Sans Mono',consolas,'Courier New',monospace\">F1:             <span style=\"color: #008080; text-decoration-color: #008080; font-weight: bold\">0.5</span>\n",
       "</pre>\n"
      ],
      "text/plain": [
       "F1:             \u001b[1;36m0.5\u001b[0m\n"
      ]
     },
     "metadata": {},
     "output_type": "display_data"
    },
    {
     "data": {
      "text/html": [
       "<pre style=\"white-space:pre;overflow-x:auto;line-height:normal;font-family:Menlo,'DejaVu Sans Mono',consolas,'Courier New',monospace\">Acc:            <span style=\"color: #008080; text-decoration-color: #008080; font-weight: bold\">0.5</span>\n",
       "</pre>\n"
      ],
      "text/plain": [
       "Acc:            \u001b[1;36m0.5\u001b[0m\n"
      ]
     },
     "metadata": {},
     "output_type": "display_data"
    }
   ],
   "source": [
    "for kernel, metrics in overall_metrics.items():\n",
    "    print(f\"====={kernel}===== \")\n",
    "    print(f\"Precision:\\t{np.round( np.mean(metrics['precision']), decimals=2 )}\")\n",
    "    print(f\"Recall:\\t\\t{np.round(np.mean(metrics['recall']), decimals=2)}\")\n",
    "    print(f\"F1:\\t\\t{np.round(np.mean(metrics['f1']), decimals=2)}\")\n",
    "    print(f\"Acc:\\t\\t{np.round(np.mean(metrics['acc']), decimals=2)}\")"
   ]
  }
 ],
 "metadata": {
  "kernelspec": {
   "display_name": ".venv",
   "language": "python",
   "name": "python3"
  },
  "language_info": {
   "codemirror_mode": {
    "name": "ipython",
    "version": 3
   },
   "file_extension": ".py",
   "mimetype": "text/x-python",
   "name": "python",
   "nbconvert_exporter": "python",
   "pygments_lexer": "ipython3",
   "version": "3.11.9"
  }
 },
 "nbformat": 4,
 "nbformat_minor": 2
}
